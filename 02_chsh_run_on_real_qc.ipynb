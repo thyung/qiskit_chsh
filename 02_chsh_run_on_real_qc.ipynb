{
 "cells": [
  {
   "cell_type": "code",
   "execution_count": null,
   "metadata": {
    "colab": {
     "base_uri": "https://localhost:8080/"
    },
    "executionInfo": {
     "elapsed": 25777,
     "status": "ok",
     "timestamp": 1740469443761,
     "user": {
      "displayName": "Tin Ho Yung",
      "userId": "10399328616987726530"
     },
     "user_tz": -60
    },
    "id": "S9nv9ZBEj1jm",
    "outputId": "a2766e2b-8c22-46a6-8218-97d8212825d0"
   },
   "outputs": [],
   "source": [
    "# !pip install 'qiskit[visualization]'\n",
    "# !pip install qiskit_aer\n",
    "# !pip install qiskit_ibm_runtime"
   ]
  },
  {
   "cell_type": "code",
   "execution_count": 2,
   "metadata": {
    "executionInfo": {
     "elapsed": 4101,
     "status": "ok",
     "timestamp": 1740469462358,
     "user": {
      "displayName": "Tin Ho Yung",
      "userId": "10399328616987726530"
     },
     "user_tz": -60
    },
    "id": "mcJMLqvNjXac"
   },
   "outputs": [],
   "source": [
    "import qiskit\n",
    "from qiskit import QuantumCircuit\n",
    "from qiskit import QuantumRegister, ClassicalRegister\n",
    "from qiskit.visualization import plot_distribution\n",
    "from qiskit.circuit.library import UnitaryGate\n",
    "from qiskit.circuit.classical import expr\n",
    "from qiskit_aer import AerSimulator\n",
    "from qiskit_ibm_runtime import SamplerV2 as Sampler\n",
    "from qiskit.visualization import plot_bloch_vector\n",
    "from qiskit.visualization.bloch import Bloch\n",
    "from qiskit.transpiler.preset_passmanagers import generate_preset_pass_manager\n",
    "from qiskit_ibm_runtime import QiskitRuntimeService\n",
    "import math\n",
    "import numpy as np\n",
    "import matplotlib.pyplot as plt"
   ]
  },
  {
   "cell_type": "markdown",
   "metadata": {},
   "source": [
    "### CHSH game on real quantum computer"
   ]
  },
  {
   "cell_type": "markdown",
   "metadata": {
    "id": "u3StZASnDwby"
   },
   "source": [
    "Define helper functions."
   ]
  },
  {
   "cell_type": "code",
   "execution_count": 3,
   "metadata": {
    "executionInfo": {
     "elapsed": 19,
     "status": "ok",
     "timestamp": 1740469484439,
     "user": {
      "displayName": "Tin Ho Yung",
      "userId": "10399328616987726530"
     },
     "user_tz": -60
    },
    "id": "-74ns5y7jXaf"
   },
   "outputs": [],
   "source": [
    "def is_win(x, y, a, b):\n",
    "    \"\"\"\n",
    "    x, y, a, b are 0 or 1\n",
    "    return true if x and y = a xor b\n",
    "    \"\"\"\n",
    "    if x==1 and y==1:\n",
    "        if a != b:\n",
    "            return True\n",
    "        else:\n",
    "            return False\n",
    "    else:\n",
    "        if a == b:\n",
    "            return True\n",
    "        else:\n",
    "            return False"
   ]
  },
  {
   "cell_type": "code",
   "execution_count": 4,
   "metadata": {
    "executionInfo": {
     "elapsed": 18,
     "status": "ok",
     "timestamp": 1740469492907,
     "user": {
      "displayName": "Tin Ho Yung",
      "userId": "10399328616987726530"
     },
     "user_tz": -60
    },
    "id": "36zTUletDwb4"
   },
   "outputs": [],
   "source": [
    "def get_win_prob(dist):\n",
    "    count_win = 0\n",
    "    count_loss = 0\n",
    "    for k, v in dist.items():\n",
    "        x = int(k[3]) # measured bit 0 is rightmost char [3] in string\n",
    "        y = int(k[2])\n",
    "        a = int(k[1])\n",
    "        b = int(k[0])\n",
    "        if is_win(x, y, a, b):\n",
    "            count_win += v\n",
    "        else:\n",
    "            count_loss += v\n",
    "    return count_win / (count_win + count_loss)"
   ]
  },
  {
   "cell_type": "markdown",
   "metadata": {
    "id": "kk7AmTdsDwb6"
   },
   "source": [
    "Reuse the quantum circuit in section 1, except the removal of qc.barrier() which degrades the optimization in real quantum computer."
   ]
  },
  {
   "cell_type": "code",
   "execution_count": 5,
   "metadata": {
    "colab": {
     "base_uri": "https://localhost:8080/",
     "height": 384
    },
    "executionInfo": {
     "elapsed": 580,
     "status": "ok",
     "timestamp": 1740469502130,
     "user": {
      "displayName": "Tin Ho Yung",
      "userId": "10399328616987726530"
     },
     "user_tz": -60
    },
    "id": "rmrDFz6oDwb6",
    "outputId": "ac777224-a32e-46b7-dc00-e16fe41bca2c"
   },
   "outputs": [
    {
     "data": {
      "image/png": "[encoded data removed]",
      "text/plain": [
       "<Figure size 1324.07x451.5 with 1 Axes>"
      ]
     },
     "metadata": {},
     "output_type": "display_data"
    }
   ],
   "source": [
    "xreg = QuantumRegister(1, \"x\")\n",
    "yreg = QuantumRegister(1, \"y\")\n",
    "areg = QuantumRegister(1, \"Alice\")\n",
    "breg = QuantumRegister(1, \"Bob\")\n",
    "c_reg = ClassicalRegister(4, \"c\") # bit 0, 1, 2, 3 as x, y, a, b\n",
    "\n",
    "qc = QuantumCircuit(xreg, yreg, areg, breg, c_reg)\n",
    "qc.h(xreg)\n",
    "qc.h(yreg)\n",
    "qc.h(areg)\n",
    "qc.cx(areg, breg)\n",
    "# qc.barrier()\n",
    "\n",
    "# randomly generate x.  Apply Alice's operator accordingly.  Use ry()\n",
    "qc.measure(xreg, c_reg[0])\n",
    "with qc.if_test((c_reg[0], 1)) as else_:\n",
    "    qc.ry(-math.pi/2, areg)\n",
    "with else_:\n",
    "    qc.ry(0, areg)\n",
    "# qc.barrier()\n",
    "\n",
    "# randomly generate y.  Apply Bob's operator accordingly.  Use ry()\n",
    "qc.measure(yreg, c_reg[1])\n",
    "with qc.if_test((c_reg[1], 1)) as else_:\n",
    "    qc.ry(math.pi/4, breg)\n",
    "with else_:\n",
    "    qc.ry(-math.pi/4, breg)\n",
    "# qc.barrier()\n",
    "\n",
    "# measure a, b\n",
    "qc.measure(areg, c_reg[2])\n",
    "qc.measure(breg, c_reg[3])\n",
    "display(qc.draw('mpl'))"
   ]
  },
  {
   "cell_type": "code",
   "execution_count": 6,
   "metadata": {
    "executionInfo": {
     "elapsed": 9767,
     "status": "ok",
     "timestamp": 1740469586324,
     "user": {
      "displayName": "Tin Ho Yung",
      "userId": "10399328616987726530"
     },
     "user_tz": -60
    },
    "id": "un6rzrMdjXai"
   },
   "outputs": [],
   "source": [
    "service = QiskitRuntimeService(channel=\"ibm_quantum\", token=\"put_token_here\")\n",
    "backend = service.backend(name='ibm_kyiv')\n",
    "pm = generate_preset_pass_manager(optimization_level=1, backend=backend)\n",
    "\n",
    "qc_transpiled = pm.run(qc)"
   ]
  },
  {
   "cell_type": "code",
   "execution_count": 7,
   "metadata": {
    "executionInfo": {
     "elapsed": 2976,
     "status": "ok",
     "timestamp": 1740469593382,
     "user": {
      "displayName": "Tin Ho Yung",
      "userId": "10399328616987726530"
     },
     "user_tz": -60
    },
    "id": "RHQpzZpejXaj"
   },
   "outputs": [],
   "source": [
    "sampler = Sampler(mode=backend)\n",
    "job = sampler.run([qc_transpiled])\n",
    "# print(job.job_id())"
   ]
  },
  {
   "cell_type": "code",
   "execution_count": 8,
   "metadata": {
    "colab": {
     "base_uri": "https://localhost:8080/"
    },
    "executionInfo": {
     "elapsed": 10311,
     "status": "ok",
     "timestamp": 1740469610613,
     "user": {
      "displayName": "Tin Ho Yung",
      "userId": "10399328616987726530"
     },
     "user_tz": -60
    },
    "id": "E1I2WAeGDwb-",
    "outputId": "7b097947-ac3d-42db-876c-4d2543efc979"
   },
   "outputs": [
    {
     "name": "stdout",
     "output_type": "stream",
     "text": [
      "sample distribution:  {'1000': 75, '1101': 408, '0010': 442, '1100': 427, '0000': 402, '1110': 414, '1001': 106, '0101': 101, '1111': 135, '0011': 107, '0111': 415, '1011': 405, '0110': 90, '0100': 74, '0001': 414, '1010': 81}\n",
      "win probability =  0.812255859375\n"
     ]
    }
   ],
   "source": [
    "result = job.result()[0]\n",
    "samp_dist = result.data.c.get_counts()\n",
    "print(\"sample distribution: \", samp_dist)\n",
    "print(\"win probability = \", get_win_prob(samp_dist))"
   ]
  },
  {
   "cell_type": "markdown",
   "metadata": {},
   "source": [
    "The win probability is lower than ideal 0.85."
   ]
  },
  {
   "cell_type": "code",
   "execution_count": 9,
   "metadata": {
    "colab": {
     "base_uri": "https://localhost:8080/",
     "height": 36
    },
    "executionInfo": {
     "elapsed": 28,
     "status": "ok",
     "timestamp": 1740469645563,
     "user": {
      "displayName": "Tin Ho Yung",
      "userId": "10399328616987726530"
     },
     "user_tz": -60
    },
    "id": "kYpUXXPFjXam",
    "outputId": "a4aa718c-4b2a-4713-b24c-542e5b88e1b7"
   },
   "outputs": [
    {
     "data": {
      "application/vnd.google.colaboratory.intrinsic+json": {
       "type": "string"
      },
      "text/plain": [
       "'1.4.0'"
      ]
     },
     "execution_count": 9,
     "metadata": {},
     "output_type": "execute_result"
    }
   ],
   "source": [
    "qiskit.__version__"
   ]
  }
 ],
 "metadata": {
  "colab": {
   "provenance": []
  },
  "kernelspec": {
   "display_name": "qiskit1_4_env",
   "language": "python",
   "name": "python3"
  },
  "language_info": {
   "codemirror_mode": {
    "name": "ipython",
    "version": 3
   },
   "file_extension": ".py",
   "mimetype": "text/x-python",
   "name": "python",
   "nbconvert_exporter": "python",
   "pygments_lexer": "ipython3",
   "version": "3.11.11"
  }
 },
 "nbformat": 4,
 "nbformat_minor": 0
}
