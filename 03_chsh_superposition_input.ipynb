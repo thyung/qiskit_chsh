{
 "cells": [
  {
   "cell_type": "code",
   "execution_count": 1,
   "metadata": {},
   "outputs": [],
   "source": [
    "# !pip install 'qiskit[visualization]'\n",
    "# !pip install qiskit_aer\n",
    "# !pip install qiskit_ibm_runtime"
   ]
  },
  {
   "cell_type": "code",
   "execution_count": 2,
   "metadata": {},
   "outputs": [],
   "source": [
    "import qiskit\n",
    "from qiskit import QuantumCircuit\n",
    "from qiskit import QuantumRegister, ClassicalRegister\n",
    "from qiskit.visualization import plot_distribution\n",
    "from qiskit.circuit.library import UnitaryGate\n",
    "from qiskit.circuit.classical import expr\n",
    "from qiskit_aer import AerSimulator\n",
    "from qiskit_ibm_runtime import SamplerV2 as Sampler\n",
    "from qiskit.visualization import plot_bloch_vector\n",
    "from qiskit.visualization.bloch import Bloch\n",
    "from qiskit.transpiler.preset_passmanagers import generate_preset_pass_manager\n",
    "from qiskit_ibm_runtime import QiskitRuntimeService\n",
    "import math\n",
    "import numpy as np\n",
    "import matplotlib.pyplot as plt"
   ]
  },
  {
   "cell_type": "markdown",
   "metadata": {},
   "source": [
    "### \"Quantum\" CHSH game"
   ]
  },
  {
   "cell_type": "markdown",
   "metadata": {},
   "source": [
    "This time Alice and Bob read x and y in superposition value of 0 and 1.  Then, apply their operators accordingly."
   ]
  },
  {
   "cell_type": "markdown",
   "metadata": {},
   "source": [
    "Define helper functions."
   ]
  },
  {
   "cell_type": "code",
   "execution_count": 3,
   "metadata": {},
   "outputs": [],
   "source": [
    "def is_win(x, y, a, b):\n",
    "    \"\"\"\n",
    "    x, y, a, b are 0 or 1\n",
    "    return true if x and y = a xor b\n",
    "    \"\"\"\n",
    "    if x==1 and y==1:\n",
    "        if a != b:\n",
    "            return True\n",
    "        else:\n",
    "            return False\n",
    "    else:\n",
    "        if a == b:\n",
    "            return True\n",
    "        else:\n",
    "            return False"
   ]
  },
  {
   "cell_type": "code",
   "execution_count": 4,
   "metadata": {},
   "outputs": [],
   "source": [
    "def get_win_prob(dist):\n",
    "    count_win = 0\n",
    "    count_loss = 0\n",
    "    for k, v in dist.items():\n",
    "        x = int(k[3]) # measured bit 0 is rightmost char [3] in string\n",
    "        y = int(k[2])\n",
    "        a = int(k[1])\n",
    "        b = int(k[0])\n",
    "        if is_win(x, y, a, b):\n",
    "            count_win += v\n",
    "        else:\n",
    "            count_loss += v\n",
    "    return count_win / (count_win + count_loss)"
   ]
  },
  {
   "cell_type": "code",
   "execution_count": 5,
   "metadata": {},
   "outputs": [
    {
     "data": {
      "image/png": "[encoded data removed]",
      "text/plain": [
       "<Figure size 1574.9x451.5 with 1 Axes>"
      ]
     },
     "metadata": {},
     "output_type": "display_data"
    }
   ],
   "source": [
    "xreg = QuantumRegister(1, \"x\")\n",
    "yreg = QuantumRegister(1, \"y\")\n",
    "areg = QuantumRegister(1, \"Alice\")\n",
    "breg = QuantumRegister(1, \"Bob\")\n",
    "c_reg = ClassicalRegister(4, \"c\") # bit 0, 1, 2, 3 as x, y, a, b\n",
    "\n",
    "qc = QuantumCircuit(xreg, yreg, areg, breg, c_reg)\n",
    "qc.h(xreg)\n",
    "qc.h(yreg)\n",
    "qc.h(areg)\n",
    "qc.cx(areg, breg)\n",
    "qc.barrier()\n",
    "\n",
    "# Apply Alice's operators accordingly\n",
    "qc.cry(-np.pi/2, xreg, areg)\n",
    "qc.x(xreg)\n",
    "qc.cry(0, xreg, areg)\n",
    "qc.x(xreg)\n",
    "qc.barrier()\n",
    "\n",
    "# Apply Bob's operators accordingly\n",
    "qc.cry(np.pi/4, yreg, breg)\n",
    "qc.x(yreg)\n",
    "qc.cry(-np.pi/4, yreg, breg)\n",
    "qc.x(yreg)\n",
    "qc.barrier()\n",
    "\n",
    "# measure x, y, a, b\n",
    "qc.measure(xreg, c_reg[0])\n",
    "qc.measure(yreg, c_reg[1])\n",
    "qc.measure(areg, c_reg[2])\n",
    "qc.measure(breg, c_reg[3])\n",
    "display(qc.draw('mpl'))"
   ]
  },
  {
   "cell_type": "code",
   "execution_count": 6,
   "metadata": {},
   "outputs": [
    {
     "name": "stdout",
     "output_type": "stream",
     "text": [
      "{'1101': 102, '0001': 122, '0111': 107, '1111': 18, '1001': 17, '1110': 101, '0110': 21, '1100': 112, '0011': 27, '0010': 114, '1010': 15, '1000': 12, '1011': 122, '0100': 21, '0000': 93, '0101': 20}\n",
      "873 151\n",
      "0.8525390625\n"
     ]
    }
   ],
   "source": [
    "sampler = Sampler(mode=AerSimulator())\n",
    "job = sampler.run([qc])\n",
    "result = job.result()[0]\n",
    "samp_dist = result.data.c.get_counts()\n",
    "print(samp_dist)\n",
    "count_win = 0\n",
    "count_loss = 0\n",
    "for k, v in samp_dist.items():\n",
    "    x = int(k[3]) # measured bit 0 is rightmost char [3] in string\n",
    "    y = int(k[2])\n",
    "    a = int(k[1])\n",
    "    b = int(k[0])\n",
    "    if is_win(x, y, a, b):\n",
    "        count_win += v\n",
    "    else:\n",
    "        count_loss += v\n",
    "print(count_win, count_loss)\n",
    "print(count_win / (count_win + count_loss))"
   ]
  },
  {
   "cell_type": "markdown",
   "metadata": {},
   "source": [
    "Got the same ideal win probability 0.85."
   ]
  },
  {
   "cell_type": "code",
   "execution_count": 7,
   "metadata": {},
   "outputs": [
    {
     "data": {
      "text/plain": [
       "'1.4.0'"
      ]
     },
     "execution_count": 7,
     "metadata": {},
     "output_type": "execute_result"
    }
   ],
   "source": [
    "qiskit.__version__"
   ]
  }
 ],
 "metadata": {
  "kernelspec": {
   "display_name": "qiskit1_4_env",
   "language": "python",
   "name": "python3"
  },
  "language_info": {
   "codemirror_mode": {
    "name": "ipython",
    "version": 3
   },
   "file_extension": ".py",
   "mimetype": "text/x-python",
   "name": "python",
   "nbconvert_exporter": "python",
   "pygments_lexer": "ipython3",
   "version": "3.11.11"
  }
 },
 "nbformat": 4,
 "nbformat_minor": 2
}
